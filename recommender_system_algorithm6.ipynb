{
 "cells": [
  {
   "cell_type": "code",
   "execution_count": 1,
   "id": "b56be91a",
   "metadata": {},
   "outputs": [],
   "source": [
    "from pymongo import MongoClient\n",
    "import pandas as pd\n",
    "import numpy as np\n",
    "from sklearn.metrics.pairwise import cosine_similarity\n",
    "from sklearn.decomposition import TruncatedSVD, NMF\n",
    "from sklearn.preprocessing import StandardScaler, OneHotEncoder\n",
    "from sklearn.metrics import mean_squared_error, mean_absolute_error\n",
    "import seaborn as sns\n",
    "import matplotlib.pyplot as plt\n",
    "from scipy.sparse import csr_matrix\n",
    "from sklearn.feature_extraction.text import TfidfVectorizer\n",
    "import plotly.express as px\n",
    "import logging\n",
    "\n",
    "# Set up logging\n",
    "logging.basicConfig(level=logging.INFO)\n",
    "logger = logging.getLogger(__name__)"
   ]
  },
  {
   "cell_type": "code",
   "execution_count": 2,
   "id": "a857f071",
   "metadata": {},
   "outputs": [],
   "source": [
    "client = MongoClient('mongodb://localhost:27017/')\n",
    "db = client['recommender_system']\n",
    "admissions = db['admissions']\n",
    "patients = db['patients']\n",
    "diagnoses_icd = db['diagnoses_icd']\n",
    "procedures_icd = db['procedures_icd']\n",
    "d_icd_diagnoses = db['d_icd_diagnoses']\n",
    "d_icd_procedures = db['d_icd_procedures']\n",
    "nies = db['nies']"
   ]
  },
  {
   "cell_type": "code",
   "execution_count": 3,
   "id": "813166ad",
   "metadata": {},
   "outputs": [],
   "source": [
    "df_admissions = pd.DataFrame(list(admissions.find()))\n",
    "df_patients = pd.DataFrame(list(patients.find()))\n",
    "df_diagnoses_icd = pd.DataFrame(list(diagnoses_icd.find()))\n",
    "df_procedures_icd = pd.DataFrame(list(procedures_icd.find()))\n",
    "df_d_icd_diagnoses = pd.DataFrame(list(d_icd_diagnoses.find()))\n",
    "df_d_icd_procedures = pd.DataFrame(list(d_icd_procedures.find()))\n",
    "df_nies = pd.DataFrame(list(nies.find()))"
   ]
  },
  {
   "cell_type": "code",
   "execution_count": 4,
   "id": "e27d3e2b",
   "metadata": {},
   "outputs": [],
   "source": [
    "merged_data = pd.merge(df_admissions, df_patients, on='subject_id', how='left')\n",
    "diagnoses_merged = pd.merge(merged_data, df_diagnoses_icd, on=['hadm_id', 'subject_id'], how='left')"
   ]
  },
  {
   "cell_type": "code",
   "execution_count": 5,
   "id": "63a45829",
   "metadata": {},
   "outputs": [],
   "source": [
    "icd_to_category = {\n",
    "    '250': 'Q45_QO9',  # Diabetes and related problems\n",
    "    '390-459': 'Q45_QO2',  # Heart condition\n",
    "    '460-519': 'Q45_QO3',  # Lung condition\n",
    "    '320-389': 'Q45_QO4',  # Neurological condition\n",
    "    '710-739': 'Q45_QO5',  # Orthopaedic condition\n",
    "    'U07.1': 'Q45_QO6',  # COVID-19\n",
    "    '001-139': 'Q45_QO7',  # Infection (other than COVID-19)\n",
    "    '520-579': 'Q45_QO8',  # Digestive system condition\n",
    "    '140-239': 'Q45_QO1',  # Tumour or cancer\n",
    "    '960-989': 'Q45_QO10',  # Adverse reaction or poisoning\n",
    "    '800-999': 'Q45_QO11',  # Injury and or accident\n",
    "    '290-319': 'Q45_QO12',  # Mental health issue\n",
    "    'V01-V91': 'Q45_QO13',  # Tests and or investigations\n",
    "    'Unknown': 'Q45_QO14'  # Dont know or wasnt told\n",
    "}\n",
    "category_labels = {\n",
    "    'Q45_QO1': 'Tumour or cancer',\n",
    "    'Q45_QO2': 'Heart condition',\n",
    "    'Q45_QO3': 'Lung condition',\n",
    "    'Q45_QO4': 'Neurological condition',\n",
    "    'Q45_QO5': 'Orthopaedic condition',\n",
    "    'Q45_QO6': 'COVID 19',\n",
    "    'Q45_QO7': 'Infection (other than COVID 19)',\n",
    "    'Q45_QO8': 'Digestive system condition',\n",
    "    'Q45_QO9': 'Diabetes and related problems',\n",
    "    'Q45_QO10': 'Adverse reaction or poising',\n",
    "    'Q45_QO11': 'Injury and or accident',\n",
    "    'Q45_QO12': 'Mental health issue',\n",
    "    'Q45_QO13': 'Tests and or investigations',\n",
    "    'Q45_QO14': 'Dont know or wasnt told',\n",
    "    'Q45_QO15': 'Other'\n",
    "}"
   ]
  },
  {
   "cell_type": "code",
   "execution_count": 6,
   "id": "f99d387e",
   "metadata": {},
   "outputs": [],
   "source": [
    "def classify_diagnosis(icd_code):\n",
    "    if pd.isna(icd_code):\n",
    "        return category_labels['Q45_QO15']\n",
    "    for code_range, category in icd_to_category.items():\n",
    "        if '-' in code_range:\n",
    "            start, end = code_range.split('-')\n",
    "            try:\n",
    "                if start <= str(icd_code) <= end:\n",
    "                    return category_labels[category]\n",
    "            except:\n",
    "                continue\n",
    "        elif code_range == str(icd_code):\n",
    "            return category_labels[category]\n",
    "    return category_labels['Q45_QO15']"
   ]
  },
  {
   "cell_type": "code",
   "execution_count": 7,
   "id": "74fe80f9",
   "metadata": {},
   "outputs": [],
   "source": [
    "diagnoses_merged['condition_label'] = diagnoses_merged['icd_code'].apply(classify_diagnosis)\n",
    "diagnoses_grouped = diagnoses_merged.groupby(['hadm_id', 'subject_id'])['condition_label'].apply(lambda x: ', '.join(set(x))).reset_index()\n",
    "patient_data = pd.merge(merged_data, diagnoses_grouped, on=['hadm_id', 'subject_id'], how='left')"
   ]
  },
  {
   "cell_type": "code",
   "execution_count": 8,
   "id": "28b46ac7",
   "metadata": {},
   "outputs": [],
   "source": [
    "df_nies['gender'] = df_nies['Gender'].map({1: 'M', 2: 'F'})\n",
    "admission_type_map = {\n",
    "    'EU OBSERVATION': 0.0,\n",
    "    'URGENT': 0.0,\n",
    "    'EW EMER.': 1.0,\n",
    "    'SURGICAL SAME DAY ADMISSION': 0.0,\n",
    "    'DIRECT EMER.': 0.0\n",
    "}\n",
    "patient_data['AdmTypeBinary'] = patient_data['admission_type'].map(admission_type_map).fillna(0.0)\n",
    "nies_avg_scores = df_nies.groupby(['AdmTypeBinary', 'gender', 'condition_label'])['satisfaction_score'].mean().reset_index()"
   ]
  },
  {
   "cell_type": "code",
   "execution_count": 9,
   "id": "e088432d",
   "metadata": {},
   "outputs": [],
   "source": [
    "patient_data = patient_data.assign(condition_label=patient_data['condition_label'].str.split(', ')).explode('condition_label')\n",
    "patient_data = pd.merge(\n",
    "    patient_data,\n",
    "    nies_avg_scores,\n",
    "    left_on=['AdmTypeBinary', 'gender', 'condition_label'],\n",
    "    right_on=['AdmTypeBinary', 'gender', 'condition_label'],\n",
    "    how='left'\n",
    ")\n",
    "patient_data = patient_data.groupby(['hadm_id', 'subject_id', 'admission_type', 'insurance', 'gender', 'anchor_age', 'AdmTypeBinary'])['satisfaction_score'].mean().reset_index()"
   ]
  },
  {
   "cell_type": "code",
   "execution_count": 10,
   "id": "5280276a",
   "metadata": {},
   "outputs": [],
   "source": [
    "procedures_merged = pd.merge(patient_data, df_procedures_icd, on=['hadm_id', 'subject_id'], how='left')\n",
    "procedures_merged = procedures_merged.dropna(subset=['icd_code'])"
   ]
  },
  {
   "cell_type": "code",
   "execution_count": 11,
   "id": "3e501cf9",
   "metadata": {},
   "outputs": [
    {
     "name": "stderr",
     "output_type": "stream",
     "text": [
      "INFO:__main__:Matrix shape: (163, 309)\n",
      "INFO:__main__:Number of procedures per admission:\n",
      "count    163.000000\n",
      "mean       2.963190\n",
      "std        2.557703\n",
      "min        1.000000\n",
      "25%        1.000000\n",
      "50%        2.000000\n",
      "75%        4.000000\n",
      "max       17.000000\n",
      "dtype: float64\n"
     ]
    }
   ],
   "source": [
    "all_procedures = set()\n",
    "for codes in procedures_merged['icd_code'].dropna():\n",
    "    all_procedures.add(str(codes))\n",
    "matrix = pd.pivot_table(\n",
    "    procedures_merged,\n",
    "    values='satisfaction_score',\n",
    "    index=['hadm_id', 'subject_id', 'gender', 'anchor_age', 'admission_type', 'insurance'],\n",
    "    columns='icd_code',\n",
    "    aggfunc='mean',\n",
    "    fill_value=0\n",
    ")\n",
    "logger.info(f\"Matrix shape: {matrix.shape}\")\n",
    "num_procedures_per_admission = (matrix > 0).sum(axis=1)\n",
    "logger.info(f\"Number of procedures per admission:\\n{num_procedures_per_admission.describe()}\")"
   ]
  },
  {
   "cell_type": "code",
   "execution_count": 12,
   "id": "split_data",
   "metadata": {},
   "outputs": [
    {
     "name": "stderr",
     "output_type": "stream",
     "text": [
      "INFO:__main__:Number of test procedures: 113\n",
      "INFO:__main__:Number of admissions with test procedures: 107\n"
     ]
    }
   ],
   "source": [
    "# Create train and test matrices by masking some procedures\n",
    "train_matrix = matrix.copy()\n",
    "test_matrix = pd.DataFrame(0.0, index=matrix.index, columns=matrix.columns)\n",
    "\n",
    "for idx in matrix.index:\n",
    "    row = matrix.loc[idx]\n",
    "    non_zero_cols = row[row > 0].index\n",
    "    if len(non_zero_cols) >= 2:\n",
    "        num_test = max(1, int(len(non_zero_cols) * 0.2))\n",
    "        test_procs = np.random.choice(non_zero_cols, num_test, replace=False)\n",
    "        logger.debug(f\"Admission {idx}: Masking {num_test} procedures: {test_procs}\")\n",
    "        train_matrix.loc[idx, test_procs] = 0.0\n",
    "        test_matrix.loc[idx, test_procs] = row[test_procs]\n",
    "\n",
    "# Verify test_matrix has non-zero values\n",
    "num_test_procs = (test_matrix > 0).sum().sum()\n",
    "num_admissions_with_test = (test_matrix.sum(axis=1) > 0).sum()\n",
    "logger.info(f\"Number of test procedures: {num_test_procs}\")\n",
    "logger.info(f\"Number of admissions with test procedures: {num_admissions_with_test}\")\n",
    "assert num_test_procs > 0, \"No procedures were masked for testing. Check data or masking logic.\"\n",
    "assert train_matrix.index.equals(test_matrix.index), \"Train and test matrices have different indices.\"\n",
    "assert not test_matrix.isna().any().any(), \"Test matrix contains NaN values.\"\n",
    "assert not train_matrix.isna().any().any(), \"Train matrix contains NaN values.\""
   ]
  },
  {
   "cell_type": "code",
   "execution_count": null,
   "id": "7.1_collaborative_filtering",
   "metadata": {},
   "outputs": [],
   "source": [
    "# Stage 1: Collaborative Filtering (User-User)\n",
    "def collaborative_filtering_recommendations(train_matrix, patient_idx, n_neighbors=3, n_recommendations=5):\n",
    "    patient_features = train_matrix.reset_index()[['gender', 'anchor_age', 'admission_type', 'insurance']]\n",
    "    encoder = OneHotEncoder(sparse_output=False, handle_unknown='ignore')\n",
    "    encoded_features = encoder.fit_transform(patient_features[['gender', 'admission_type', 'insurance']])\n",
    "    scaler = StandardScaler()\n",
    "    scaled_age = scaler.fit_transform(patient_features[['anchor_age']])\n",
    "    patient_features_combined = np.hstack([encoded_features, scaled_age])\n",
    "    similarity_matrix = cosine_similarity(patient_features_combined)\n",
    "    similarities = similarity_matrix[patient_idx]\n",
    "    neighbor_indices = np.argsort(similarities)[-n_neighbors-1:-1][::-1]\n",
    "    neighbor_procedures = train_matrix.iloc[neighbor_indices].mean(axis=0)\n",
    "    patient_procedures = train_matrix.iloc[patient_idx]\n",
    "    neighbor_procedures[patient_procedures > 0] = 0\n",
    "    recommendations = neighbor_procedures.sort_values(ascending=False).head(n_recommendations)\n",
    "    return recommendations.index.tolist()"
   ]
  },
  {
   "cell_type": "code",
   "execution_count": null,
   "id": "7.2_matrix_factorization",
   "metadata": {},
   "outputs": [],
   "source": [
    "# Stage 2: Matrix Factorization (SVD)\n",
    "def svd_recommendations(train_matrix, n_components=10, n_recommendations=5):\n",
    "    n_components = min(n_components, train_matrix.shape[1]-1, train_matrix.shape[0]-1)\n",
    "    svd = TruncatedSVD(n_components=n_components)\n",
    "    matrix_sparse = csr_matrix(train_matrix.values)\n",
    "    latent_factors = svd.fit_transform(matrix_sparse)\n",
    "    reconstructed_matrix = np.dot(latent_factors, svd.components_)\n",
    "    recommendations = []\n",
    "    for patient_idx in range(train_matrix.shape[0]):\n",
    "        predicted_scores = reconstructed_matrix[patient_idx]\n",
    "        patient_procedures = train_matrix.iloc[patient_idx]\n",
    "        predicted_scores[patient_procedures > 0] = 0\n",
    "        top_procedures = np.argsort(predicted_scores)[-n_recommendations:][::-1]\n",
    "        procedures = train_matrix.columns[top_procedures].tolist()\n",
    "        recommendations.append(procedures)\n",
    "    return recommendations"
   ]
  },
  {
   "cell_type": "code",
   "execution_count": null,
   "id": "7.3_content_based",
   "metadata": {},
   "outputs": [],
   "source": [
    "# Stage 3: Content-Based Filtering\n",
    "def content_based_recommendations(procedures_merged, train_matrix, df_d_icd_procedures, n_recommendations=5):\n",
    "    tfidf = TfidfVectorizer(stop_words='english')\n",
    "    procedure_texts = df_d_icd_procedures['long_title'].fillna('')\n",
    "    tfidf_matrix = tfidf.fit_transform(procedure_texts)\n",
    "    code_to_idx = {code: idx for idx, code in enumerate(df_d_icd_procedures['icd_code'])}\n",
    "    recommendations = []\n",
    "    for idx in train_matrix.index:\n",
    "        hadm_id, subject_id = idx[0], idx[1]\n",
    "        patient_procs = train_matrix.loc[idx][train_matrix.loc[idx] > 0].index.tolist()\n",
    "        patient_vectors = np.zeros(tfidf_matrix.shape[1])\n",
    "        valid_procedures = 0\n",
    "        for proc in patient_procs:\n",
    "            if proc in code_to_idx:\n",
    "                patient_vectors += tfidf_matrix[code_to_idx[proc]].toarray()[0]\n",
    "                valid_procedures += 1\n",
    "        if valid_procedures > 0:\n",
    "            patient_vectors /= valid_procedures\n",
    "        similarities = cosine_similarity([patient_vectors], tfidf_matrix)[0]\n",
    "        top_indices = np.argsort(similarities)[-n_recommendations-1:-1][::-1]\n",
    "        rec_procedures = df_d_icd_procedures.iloc[top_indices]['icd_code'].tolist()\n",
    "        recommendations.append(rec_procedures)\n",
    "    return recommendations"
   ]
  },
  {
   "cell_type": "code",
   "execution_count": null,
   "id": "7.4_nmf",
   "metadata": {},
   "outputs": [],
   "source": [
    "# Stage 4: NMF (Non-negative Matrix Factorization)\n",
    "def nmf_recommendations(train_matrix, n_components=10, n_recommendations=5):\n",
    "    n_components = min(n_components, train_matrix.shape[1]-1, train_matrix.shape[0]-1)\n",
    "    nmf = NMF(n_components=n_components, init='random', random_state=42)\n",
    "    matrix_sparse = csr_matrix(train_matrix.values)\n",
    "    W = nmf.fit_transform(matrix_sparse)\n",
    "    H = nmf.components_\n",
    "    reconstructed_matrix = np.dot(W, H)\n",
    "    recommendations = []\n",
    "    for patient_idx in range(train_matrix.shape[0]):\n",
    "        predicted_scores = reconstructed_matrix[patient_idx]\n",
    "        patient_procedures = train_matrix.iloc[patient_idx]\n",
    "        predicted_scores[patient_procedures > 0] = 0\n",
    "        top_procedures = np.argsort(predicted_scores)[-n_recommendations:][::-1]\n",
    "        recommendations.append(train_matrix.columns[top_procedures].tolist())\n",
    "    return recommendations"
   ]
  },
  {
   "cell_type": "code",
   "execution_count": 17,
   "id": "evaluation_metrics",
   "metadata": {},
   "outputs": [],
   "source": [
    "# Evaluation Metrics\n",
    "def evaluate_recommendations(train_matrix, recommendations, test_matrix):\n",
    "    hit_count = 0\n",
    "    total = 0\n",
    "    rmse, mae = 0, 0\n",
    "    satisfaction_lift = []\n",
    "    for i, idx in enumerate(train_matrix.index):\n",
    "        if idx not in test_matrix.index:\n",
    "            logger.debug(f\"Skipping {idx}: Not in test matrix\")\n",
    "            continue\n",
    "        test_procs = test_matrix.loc[idx][test_matrix.loc[idx] > 0].index.tolist()\n",
    "        if not test_procs:\n",
    "            logger.debug(f\"Skipping {idx}: No test procedures\")\n",
    "            continue\n",
    "        recs = recommendations[i]\n",
    "        hits = len(set(recs).intersection(set(test_procs)))\n",
    "        if hits > 0:\n",
    "            hit_count += 1\n",
    "        total += 1\n",
    "        logger.debug(f\"Admission {idx}: Test procs {test_procs}, Recs {recs}, Hits {hits}\")\n",
    "        # Compute RMSE and MAE for SVD and NMF\n",
    "        predicted_scores = np.zeros(len(train_matrix.columns))\n",
    "        for proc in recs:\n",
    "            if proc in train_matrix.columns:\n",
    "                predicted_scores[train_matrix.columns.get_loc(proc)] = 1\n",
    "        actual_scores = test_matrix.loc[idx].values\n",
    "        mse = mean_squared_error(actual_scores, predicted_scores)\n",
    "        rmse += np.sqrt(mse)\n",
    "        mae += mean_absolute_error(actual_scores, predicted_scores)\n",
    "        # Satisfaction lift\n",
    "        rec_scores = [test_matrix.loc[idx][proc] for proc in recs if proc in test_matrix.columns and test_matrix.loc[idx][proc] > 0]\n",
    "        if rec_scores:\n",
    "            mean_test_scores = test_matrix.loc[idx][test_matrix.loc[idx] > 0].mean()\n",
    "            if not np.isnan(mean_test_scores):\n",
    "                satisfaction_lift.append(np.mean(rec_scores) - mean_test_scores)\n",
    "    hit_rate = hit_count / total if total > 0 else float('nan')\n",
    "    rmse = rmse / total if total > 0 else float('nan')\n",
    "    mae = mae / total if total > 0 else float('nan')\n",
    "    mean_satisfaction_lift = np.mean(satisfaction_lift) if satisfaction_lift else float('nan')\n",
    "    logger.info(f\"Total evaluations: {total}, Hit count: {hit_count}, Hit rate: {hit_rate}\")\n",
    "    return {'RMSE': rmse, 'MAE': mae, 'Hit Rate': hit_rate, 'Mean Satisfaction Lift': mean_satisfaction_lift}"
   ]
  },
  {
   "cell_type": "code",
   "execution_count": 18,
   "id": "visualization",
   "metadata": {},
   "outputs": [],
   "source": [
    "# Interactive Visualization: Procedure-to-Procedure Transition Effectiveness\n",
    "def plot_transition_heatmap(train_matrix):\n",
    "    procedure_counts = train_matrix.sum().sort_values(ascending=False)\n",
    "    top_procedures = procedure_counts.head(20).index\n",
    "    filtered_matrix = train_matrix[top_procedures]\n",
    "    transition_matrix = np.zeros((len(top_procedures), len(top_procedures)))\n",
    "    for i in range(len(filtered_matrix)):\n",
    "        procedures = filtered_matrix.iloc[i]\n",
    "        proc_indices = np.where(procedures > 0)[0]\n",
    "        for j in proc_indices:\n",
    "            for k in proc_indices:\n",
    "                if j != k:\n",
    "                    transition_matrix[j, k] += procedures.iloc[j]\n",
    "    fig = px.imshow(transition_matrix,\n",
    "                    labels=dict(x=\"Procedure\", y=\"Procedure\", color=\"Transition Frequency\"),\n",
    "                    x=top_procedures,\n",
    "                    y=top_procedures,\n",
    "                    color_continuous_scale='Blues',\n",
    "                    title=\"Procedure-to-Procedure Transition Effectiveness\")\n",
    "    fig.update_layout(autosize=False, width=800, height=800, margin=dict(l=50, r=50, t=100, b=50))\n",
    "    fig.show()"
   ]
  },
  {
   "cell_type": "code",
   "execution_count": 25,
   "id": "run_recommendations",
   "metadata": {},
   "outputs": [
    {
     "name": "stderr",
     "output_type": "stream",
     "text": [
      "INFO:__main__:Total evaluations: 107, Hit count: 3, Hit rate: 0.028037383177570093\n",
      "INFO:__main__:Total evaluations: 107, Hit count: 10, Hit rate: 0.09345794392523364\n"
     ]
    },
    {
     "name": "stdout",
     "output_type": "stream",
     "text": [
      "Collaborative Filtering Metrics: {'RMSE': 0.10849146707459321, 'MAE': 0.01232019284580152, 'Hit Rate': 0.028037383177570093, 'Mean Satisfaction Lift': 0.0}\n",
      "SVD Metrics: {'RMSE': 0.10667981759308062, 'MAE': 0.01196661419872068, 'Hit Rate': 0.09345794392523364, 'Mean Satisfaction Lift': 1.1102230246251566e-17}\n"
     ]
    },
    {
     "name": "stderr",
     "output_type": "stream",
     "text": [
      "INFO:__main__:Total evaluations: 107, Hit count: 2, Hit rate: 0.018691588785046728\n",
      "INFO:__main__:Total evaluations: 107, Hit count: 6, Hit rate: 0.056074766355140186\n"
     ]
    },
    {
     "name": "stdout",
     "output_type": "stream",
     "text": [
      "Content-Based Metrics: {'RMSE': 0.0758516350178299, 'MAE': 0.006812027154722522, 'Hit Rate': 0.018691588785046728, 'Mean Satisfaction Lift': 0.0}\n",
      "NMF Metrics: {'RMSE': 0.10771345936068843, 'MAE': 0.0121630848413627, 'Hit Rate': 0.056074766355140186, 'Mean Satisfaction Lift': 1.850371707708594e-17}\n"
     ]
    },
    {
     "data": {
      "application/vnd.plotly.v1+json": {
       "config": {
        "plotlyServerURL": "https://plot.ly"
       },
       "data": [
        {
         "coloraxis": "coloraxis",
         "hovertemplate": "Procedure: %{x}<br>Procedure: %{y}<br>Transition Frequency: %{z}<extra></extra>",
         "name": "0",
         "type": "heatmap",
         "x": [
          3893,
          5491,
          331,
          8856,
          3891,
          9671,
          966,
          9604,
          4513,
          "5A2204Z",
          8872,
          "B211YZZ",
          "02HV33Z",
          "0DJD8ZZ",
          7569,
          3895,
          41,
          3722,
          9904,
          8842
         ],
         "xaxis": "x",
         "y": [
          3893,
          5491,
          331,
          8856,
          3891,
          9671,
          966,
          9604,
          4513,
          "5A2204Z",
          8872,
          "B211YZZ",
          "02HV33Z",
          "0DJD8ZZ",
          7569,
          3895,
          41,
          3722,
          9904,
          8842
         ],
         "yaxis": "y",
         "z": {
          "bdata": "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",
          "dtype": "f8",
          "shape": "20, 20"
         }
        }
       ],
       "layout": {
        "autosize": false,
        "coloraxis": {
         "colorbar": {
          "title": {
           "text": "Transition Frequency"
          }
         },
         "colorscale": [
          [
           0,
           "rgb(247,251,255)"
          ],
          [
           0.125,
           "rgb(222,235,247)"
          ],
          [
           0.25,
           "rgb(198,219,239)"
          ],
          [
           0.375,
           "rgb(158,202,225)"
          ],
          [
           0.5,
           "rgb(107,174,214)"
          ],
          [
           0.625,
           "rgb(66,146,198)"
          ],
          [
           0.75,
           "rgb(33,113,181)"
          ],
          [
           0.875,
           "rgb(8,81,156)"
          ],
          [
           1,
           "rgb(8,48,107)"
          ]
         ]
        },
        "height": 800,
        "margin": {
         "b": 50,
         "l": 50,
         "r": 50,
         "t": 100
        },
        "template": {
         "data": {
          "bar": [
           {
            "error_x": {
             "color": "#2a3f5f"
            },
            "error_y": {
             "color": "#2a3f5f"
            },
            "marker": {
             "line": {
              "color": "#E5ECF6",
              "width": 0.5
             },
             "pattern": {
              "fillmode": "overlay",
              "size": 10,
              "solidity": 0.2
             }
            },
            "type": "bar"
           }
          ],
          "barpolar": [
           {
            "marker": {
             "line": {
              "color": "#E5ECF6",
              "width": 0.5
             },
             "pattern": {
              "fillmode": "overlay",
              "size": 10,
              "solidity": 0.2
             }
            },
            "type": "barpolar"
           }
          ],
          "carpet": [
           {
            "aaxis": {
             "endlinecolor": "#2a3f5f",
             "gridcolor": "white",
             "linecolor": "white",
             "minorgridcolor": "white",
             "startlinecolor": "#2a3f5f"
            },
            "baxis": {
             "endlinecolor": "#2a3f5f",
             "gridcolor": "white",
             "linecolor": "white",
             "minorgridcolor": "white",
             "startlinecolor": "#2a3f5f"
            },
            "type": "carpet"
           }
          ],
          "choropleth": [
           {
            "colorbar": {
             "outlinewidth": 0,
             "ticks": ""
            },
            "type": "choropleth"
           }
          ],
          "contour": [
           {
            "colorbar": {
             "outlinewidth": 0,
             "ticks": ""
            },
            "colorscale": [
             [
              0,
              "#0d0887"
             ],
             [
              0.1111111111111111,
              "#46039f"
             ],
             [
              0.2222222222222222,
              "#7201a8"
             ],
             [
              0.3333333333333333,
              "#9c179e"
             ],
             [
              0.4444444444444444,
              "#bd3786"
             ],
             [
              0.5555555555555556,
              "#d8576b"
             ],
             [
              0.6666666666666666,
              "#ed7953"
             ],
             [
              0.7777777777777778,
              "#fb9f3a"
             ],
             [
              0.8888888888888888,
              "#fdca26"
             ],
             [
              1,
              "#f0f921"
             ]
            ],
            "type": "contour"
           }
          ],
          "contourcarpet": [
           {
            "colorbar": {
             "outlinewidth": 0,
             "ticks": ""
            },
            "type": "contourcarpet"
           }
          ],
          "heatmap": [
           {
            "colorbar": {
             "outlinewidth": 0,
             "ticks": ""
            },
            "colorscale": [
             [
              0,
              "#0d0887"
             ],
             [
              0.1111111111111111,
              "#46039f"
             ],
             [
              0.2222222222222222,
              "#7201a8"
             ],
             [
              0.3333333333333333,
              "#9c179e"
             ],
             [
              0.4444444444444444,
              "#bd3786"
             ],
             [
              0.5555555555555556,
              "#d8576b"
             ],
             [
              0.6666666666666666,
              "#ed7953"
             ],
             [
              0.7777777777777778,
              "#fb9f3a"
             ],
             [
              0.8888888888888888,
              "#fdca26"
             ],
             [
              1,
              "#f0f921"
             ]
            ],
            "type": "heatmap"
           }
          ],
          "histogram": [
           {
            "marker": {
             "pattern": {
              "fillmode": "overlay",
              "size": 10,
              "solidity": 0.2
             }
            },
            "type": "histogram"
           }
          ],
          "histogram2d": [
           {
            "colorbar": {
             "outlinewidth": 0,
             "ticks": ""
            },
            "colorscale": [
             [
              0,
              "#0d0887"
             ],
             [
              0.1111111111111111,
              "#46039f"
             ],
             [
              0.2222222222222222,
              "#7201a8"
             ],
             [
              0.3333333333333333,
              "#9c179e"
             ],
             [
              0.4444444444444444,
              "#bd3786"
             ],
             [
              0.5555555555555556,
              "#d8576b"
             ],
             [
              0.6666666666666666,
              "#ed7953"
             ],
             [
              0.7777777777777778,
              "#fb9f3a"
             ],
             [
              0.8888888888888888,
              "#fdca26"
             ],
             [
              1,
              "#f0f921"
             ]
            ],
            "type": "histogram2d"
           }
          ],
          "histogram2dcontour": [
           {
            "colorbar": {
             "outlinewidth": 0,
             "ticks": ""
            },
            "colorscale": [
             [
              0,
              "#0d0887"
             ],
             [
              0.1111111111111111,
              "#46039f"
             ],
             [
              0.2222222222222222,
              "#7201a8"
             ],
             [
              0.3333333333333333,
              "#9c179e"
             ],
             [
              0.4444444444444444,
              "#bd3786"
             ],
             [
              0.5555555555555556,
              "#d8576b"
             ],
             [
              0.6666666666666666,
              "#ed7953"
             ],
             [
              0.7777777777777778,
              "#fb9f3a"
             ],
             [
              0.8888888888888888,
              "#fdca26"
             ],
             [
              1,
              "#f0f921"
             ]
            ],
            "type": "histogram2dcontour"
           }
          ],
          "mesh3d": [
           {
            "colorbar": {
             "outlinewidth": 0,
             "ticks": ""
            },
            "type": "mesh3d"
           }
          ],
          "parcoords": [
           {
            "line": {
             "colorbar": {
              "outlinewidth": 0,
              "ticks": ""
             }
            },
            "type": "parcoords"
           }
          ],
          "pie": [
           {
            "automargin": true,
            "type": "pie"
           }
          ],
          "scatter": [
           {
            "fillpattern": {
             "fillmode": "overlay",
             "size": 10,
             "solidity": 0.2
            },
            "type": "scatter"
           }
          ],
          "scatter3d": [
           {
            "line": {
             "colorbar": {
              "outlinewidth": 0,
              "ticks": ""
             }
            },
            "marker": {
             "colorbar": {
              "outlinewidth": 0,
              "ticks": ""
             }
            },
            "type": "scatter3d"
           }
          ],
          "scattercarpet": [
           {
            "marker": {
             "colorbar": {
              "outlinewidth": 0,
              "ticks": ""
             }
            },
            "type": "scattercarpet"
           }
          ],
          "scattergeo": [
           {
            "marker": {
             "colorbar": {
              "outlinewidth": 0,
              "ticks": ""
             }
            },
            "type": "scattergeo"
           }
          ],
          "scattergl": [
           {
            "marker": {
             "colorbar": {
              "outlinewidth": 0,
              "ticks": ""
             }
            },
            "type": "scattergl"
           }
          ],
          "scattermap": [
           {
            "marker": {
             "colorbar": {
              "outlinewidth": 0,
              "ticks": ""
             }
            },
            "type": "scattermap"
           }
          ],
          "scattermapbox": [
           {
            "marker": {
             "colorbar": {
              "outlinewidth": 0,
              "ticks": ""
             }
            },
            "type": "scattermapbox"
           }
          ],
          "scatterpolar": [
           {
            "marker": {
             "colorbar": {
              "outlinewidth": 0,
              "ticks": ""
             }
            },
            "type": "scatterpolar"
           }
          ],
          "scatterpolargl": [
           {
            "marker": {
             "colorbar": {
              "outlinewidth": 0,
              "ticks": ""
             }
            },
            "type": "scatterpolargl"
           }
          ],
          "scatterternary": [
           {
            "marker": {
             "colorbar": {
              "outlinewidth": 0,
              "ticks": ""
             }
            },
            "type": "scatterternary"
           }
          ],
          "surface": [
           {
            "colorbar": {
             "outlinewidth": 0,
             "ticks": ""
            },
            "colorscale": [
             [
              0,
              "#0d0887"
             ],
             [
              0.1111111111111111,
              "#46039f"
             ],
             [
              0.2222222222222222,
              "#7201a8"
             ],
             [
              0.3333333333333333,
              "#9c179e"
             ],
             [
              0.4444444444444444,
              "#bd3786"
             ],
             [
              0.5555555555555556,
              "#d8576b"
             ],
             [
              0.6666666666666666,
              "#ed7953"
             ],
             [
              0.7777777777777778,
              "#fb9f3a"
             ],
             [
              0.8888888888888888,
              "#fdca26"
             ],
             [
              1,
              "#f0f921"
             ]
            ],
            "type": "surface"
           }
          ],
          "table": [
           {
            "cells": {
             "fill": {
              "color": "#EBF0F8"
             },
             "line": {
              "color": "white"
             }
            },
            "header": {
             "fill": {
              "color": "#C8D4E3"
             },
             "line": {
              "color": "white"
             }
            },
            "type": "table"
           }
          ]
         },
         "layout": {
          "annotationdefaults": {
           "arrowcolor": "#2a3f5f",
           "arrowhead": 0,
           "arrowwidth": 1
          },
          "autotypenumbers": "strict",
          "coloraxis": {
           "colorbar": {
            "outlinewidth": 0,
            "ticks": ""
           }
          },
          "colorscale": {
           "diverging": [
            [
             0,
             "#8e0152"
            ],
            [
             0.1,
             "#c51b7d"
            ],
            [
             0.2,
             "#de77ae"
            ],
            [
             0.3,
             "#f1b6da"
            ],
            [
             0.4,
             "#fde0ef"
            ],
            [
             0.5,
             "#f7f7f7"
            ],
            [
             0.6,
             "#e6f5d0"
            ],
            [
             0.7,
             "#b8e186"
            ],
            [
             0.8,
             "#7fbc41"
            ],
            [
             0.9,
             "#4d9221"
            ],
            [
             1,
             "#276419"
            ]
           ],
           "sequential": [
            [
             0,
             "#0d0887"
            ],
            [
             0.1111111111111111,
             "#46039f"
            ],
            [
             0.2222222222222222,
             "#7201a8"
            ],
            [
             0.3333333333333333,
             "#9c179e"
            ],
            [
             0.4444444444444444,
             "#bd3786"
            ],
            [
             0.5555555555555556,
             "#d8576b"
            ],
            [
             0.6666666666666666,
             "#ed7953"
            ],
            [
             0.7777777777777778,
             "#fb9f3a"
            ],
            [
             0.8888888888888888,
             "#fdca26"
            ],
            [
             1,
             "#f0f921"
            ]
           ],
           "sequentialminus": [
            [
             0,
             "#0d0887"
            ],
            [
             0.1111111111111111,
             "#46039f"
            ],
            [
             0.2222222222222222,
             "#7201a8"
            ],
            [
             0.3333333333333333,
             "#9c179e"
            ],
            [
             0.4444444444444444,
             "#bd3786"
            ],
            [
             0.5555555555555556,
             "#d8576b"
            ],
            [
             0.6666666666666666,
             "#ed7953"
            ],
            [
             0.7777777777777778,
             "#fb9f3a"
            ],
            [
             0.8888888888888888,
             "#fdca26"
            ],
            [
             1,
             "#f0f921"
            ]
           ]
          },
          "colorway": [
           "#636efa",
           "#EF553B",
           "#00cc96",
           "#ab63fa",
           "#FFA15A",
           "#19d3f3",
           "#FF6692",
           "#B6E880",
           "#FF97FF",
           "#FECB52"
          ],
          "font": {
           "color": "#2a3f5f"
          },
          "geo": {
           "bgcolor": "white",
           "lakecolor": "white",
           "landcolor": "#E5ECF6",
           "showlakes": true,
           "showland": true,
           "subunitcolor": "white"
          },
          "hoverlabel": {
           "align": "left"
          },
          "hovermode": "closest",
          "mapbox": {
           "style": "light"
          },
          "paper_bgcolor": "white",
          "plot_bgcolor": "#E5ECF6",
          "polar": {
           "angularaxis": {
            "gridcolor": "white",
            "linecolor": "white",
            "ticks": ""
           },
           "bgcolor": "#E5ECF6",
           "radialaxis": {
            "gridcolor": "white",
            "linecolor": "white",
            "ticks": ""
           }
          },
          "scene": {
           "xaxis": {
            "backgroundcolor": "#E5ECF6",
            "gridcolor": "white",
            "gridwidth": 2,
            "linecolor": "white",
            "showbackground": true,
            "ticks": "",
            "zerolinecolor": "white"
           },
           "yaxis": {
            "backgroundcolor": "#E5ECF6",
            "gridcolor": "white",
            "gridwidth": 2,
            "linecolor": "white",
            "showbackground": true,
            "ticks": "",
            "zerolinecolor": "white"
           },
           "zaxis": {
            "backgroundcolor": "#E5ECF6",
            "gridcolor": "white",
            "gridwidth": 2,
            "linecolor": "white",
            "showbackground": true,
            "ticks": "",
            "zerolinecolor": "white"
           }
          },
          "shapedefaults": {
           "line": {
            "color": "#2a3f5f"
           }
          },
          "ternary": {
           "aaxis": {
            "gridcolor": "white",
            "linecolor": "white",
            "ticks": ""
           },
           "baxis": {
            "gridcolor": "white",
            "linecolor": "white",
            "ticks": ""
           },
           "bgcolor": "#E5ECF6",
           "caxis": {
            "gridcolor": "white",
            "linecolor": "white",
            "ticks": ""
           }
          },
          "title": {
           "x": 0.05
          },
          "xaxis": {
           "automargin": true,
           "gridcolor": "white",
           "linecolor": "white",
           "ticks": "",
           "title": {
            "standoff": 15
           },
           "zerolinecolor": "white",
           "zerolinewidth": 2
          },
          "yaxis": {
           "automargin": true,
           "gridcolor": "white",
           "linecolor": "white",
           "ticks": "",
           "title": {
            "standoff": 15
           },
           "zerolinecolor": "white",
           "zerolinewidth": 2
          }
         }
        },
        "title": {
         "text": "Procedure-to-Procedure Transition Effectiveness"
        },
        "width": 800,
        "xaxis": {
         "anchor": "y",
         "constrain": "domain",
         "domain": [
          0,
          1
         ],
         "scaleanchor": "y",
         "title": {
          "text": "Procedure"
         }
        },
        "yaxis": {
         "anchor": "x",
         "autorange": "reversed",
         "constrain": "domain",
         "domain": [
          0,
          1
         ],
         "title": {
          "text": "Procedure"
         }
        }
       }
      }
     },
     "metadata": {},
     "output_type": "display_data"
    }
   ],
   "source": [
    "# Generate recommendations\n",
    "cf_recommendations = [collaborative_filtering_recommendations(train_matrix, i) for i in range(len(train_matrix))]\n",
    "cf_metrics = evaluate_recommendations(train_matrix, cf_recommendations, test_matrix)\n",
    "print('Collaborative Filtering Metrics:', cf_metrics)\n",
    "\n",
    "svd_recs = svd_recommendations(train_matrix)\n",
    "svd_metrics = evaluate_recommendations(train_matrix, svd_recs, test_matrix)\n",
    "print('SVD Metrics:', svd_metrics)\n",
    "# Run Content-Based Filtering\n",
    "cb_recs = content_based_recommendations(procedures_merged, train_matrix, df_d_icd_procedures)\n",
    "cb_metrics = evaluate_recommendations(train_matrix, cb_recs, test_matrix)\n",
    "print('Content-Based Metrics:', cb_metrics)\n",
    "\n",
    "# Run NMF\n",
    "nmf_recs = nmf_recommendations(train_matrix)\n",
    "nmf_metrics = evaluate_recommendations(train_matrix, nmf_recs, test_matrix)\n",
    "print('NMF Metrics:', nmf_metrics)\n",
    "\n",
    "# Plot interactive heatmap\n",
    "plot_transition_heatmap(train_matrix)"
   ]
  },
  {
   "cell_type": "code",
   "execution_count": 31,
   "id": "c3a08eaf",
   "metadata": {},
   "outputs": [],
   "source": [
    "import pandas as pd\n",
    "import numpy as np\n",
    "from sklearn.metrics.pairwise import cosine_similarity\n",
    "from sklearn.preprocessing import OneHotEncoder, StandardScaler\n",
    "from sklearn.decomposition import TruncatedSVD\n",
    "from scipy.sparse import csr_matrix\n",
    "import joblib\n",
    "import os\n",
    "import logging\n",
    "\n",
    "# Set up logging\n",
    "logging.basicConfig(level=logging.INFO)\n",
    "logger = logging.getLogger(__name__)\n",
    "\n",
    "def collaborative_filtering_recommendations(train_matrix, patient_idx, n_neighbors=5, n_recommendations=5, encoder=None, scaler=None):\n",
    "    \"\"\"\n",
    "    Collaborative Filtering recommendations for a patient, returning encoder and scaler.\n",
    "    \n",
    "    Parameters:\n",
    "    - train_matrix (pd.DataFrame): Training matrix with admissions as rows, procedure ICD codes as columns.\n",
    "    - patient_idx (int): Index of the patient in train_matrix.\n",
    "    - n_neighbors (int): Number of similar patients to consider.\n",
    "    - n_recommendations (int): Number of procedures to recommend.\n",
    "    - encoder (OneHotEncoder, optional): Pre-trained encoder for categorical features.\n",
    "    - scaler (StandardScaler, optional): Pre-trained scaler for age.\n",
    "    \n",
    "    Returns:\n",
    "    - list: Recommended procedure ICD codes.\n",
    "    - OneHotEncoder: Encoder used for categorical features (new or provided).\n",
    "    - StandardScaler: Scaler used for age (new or provided).\n",
    "    \"\"\"\n",
    "    patient_features = train_matrix.reset_index()[['gender', 'anchor_age', 'admission_type', 'insurance']]\n",
    "    \n",
    "    # Initialize encoder and scaler if not provided\n",
    "    if encoder is None:\n",
    "        encoder = OneHotEncoder(sparse_output=False, handle_unknown='ignore')\n",
    "        encoded_features = encoder.fit_transform(patient_features[['gender', 'admission_type', 'insurance']])\n",
    "    else:\n",
    "        encoded_features = encoder.transform(patient_features[['gender', 'admission_type', 'insurance']])\n",
    "    \n",
    "    if scaler is None:\n",
    "        scaler = StandardScaler()\n",
    "        scaled_age = scaler.fit_transform(patient_features[['anchor_age']])\n",
    "    else:\n",
    "        scaled_age = scaler.transform(patient_features[['anchor_age']])\n",
    "    \n",
    "    patient_features_combined = np.hstack([encoded_features, scaled_age])\n",
    "    similarity_matrix = cosine_similarity(patient_features_combined)\n",
    "    similarities = similarity_matrix[patient_idx]\n",
    "    neighbor_indices = np.argsort(similarities)[-n_neighbors-1:-1][::-1]\n",
    "    neighbor_procedures = train_matrix.iloc[neighbor_indices].mean(axis=0)\n",
    "    patient_procedures = train_matrix.iloc[patient_idx]\n",
    "    neighbor_procedures[patient_procedures > 0] = 0\n",
    "    recommendations = neighbor_procedures.sort_values(ascending=False).head(n_recommendations).index.tolist()\n",
    "    \n",
    "    return recommendations, encoder, scaler\n",
    "\n",
    "def svd_recommendations(train_matrix, n_components=10, n_recommendations=5, save_model=True):\n",
    "    \"\"\"\n",
    "    SVD recommendations, returning the trained model and saving it optionally.\n",
    "    \"\"\"\n",
    "    n_components = min(n_components, train_matrix.shape[1]-1, train_matrix.shape[0]-1)\n",
    "    svd = TruncatedSVD(n_components=n_components)\n",
    "    matrix_sparse = csr_matrix(train_matrix.values)\n",
    "    latent_factors = svd.fit_transform(matrix_sparse)\n",
    "    reconstructed_matrix = np.dot(latent_factors, svd.components_)\n",
    "    recommendations = []\n",
    "    for patient_idx in range(train_matrix.shape[0]):\n",
    "        predicted_scores = reconstructed_matrix[patient_idx]\n",
    "        patient_procedures = train_matrix.iloc[patient_idx]\n",
    "        predicted_scores[patient_procedures > 0] = 0\n",
    "        top_procedures = np.argsort(predicted_scores)[-n_recommendations:][::-1]\n",
    "        procedures = train_matrix.columns[top_procedures].tolist()\n",
    "        recommendations.append(procedures)\n",
    "    \n",
    "    # Save SVD model\n",
    "    if save_model:\n",
    "        joblib.dump(svd, 'svd_model.joblib')\n",
    "    return recommendations, svd\n",
    "\n",
    "def recommend_procedures_for_new_patient(new_patient, train_matrix, df_d_icd_procedures, svd_model=None, encoder=None, scaler=None, n_recommendations=5, n_neighbors=5):\n",
    "    \"\"\"\n",
    "    Recommend procedures for a new patient using Collaborative Filtering and SVD.\n",
    "    \n",
    "    Parameters:\n",
    "    - new_patient (dict): Dictionary with patient data (subject_id, hadm_id, gender, anchor_age, admission_type, insurance, condition_label, known_procedures).\n",
    "    - train_matrix (pd.DataFrame): Training matrix with admissions as rows, procedure ICD codes as columns.\n",
    "    - df_d_icd_procedures (pd.DataFrame): DataFrame with procedure ICD codes and descriptions.\n",
    "    - svd_model (TruncatedSVD, optional): Trained SVD model. Loads from 'svd_model.joblib' if None.\n",
    "    - encoder (OneHotEncoder, optional): Trained encoder. Loads from 'onehot_encoder.joblib' if None.\n",
    "    - scaler (StandardScaler, optional): Trained scaler. Loads from 'standard_scaler.joblib' if None.\n",
    "    - n_recommendations (int): Number of procedures to recommend.\n",
    "    - n_neighbors (int): Number of neighbors for Collaborative Filtering.\n",
    "    \n",
    "    Returns:\n",
    "    - list: List of dictionaries with recommended procedure ICD codes and descriptions.\n",
    "    \"\"\"\n",
    "    # Load models if not provided\n",
    "    if encoder is None:\n",
    "        if os.path.exists('onehot_encoder.joblib'):\n",
    "            encoder = joblib.load('onehot_encoder.joblib')\n",
    "        else:\n",
    "            raise FileNotFoundError(\"OneHotEncoder not provided and 'onehot_encoder.joblib' not found.\")\n",
    "    if scaler is None:\n",
    "        if os.path.exists('standard_scaler.joblib'):\n",
    "            scaler = joblib.load('standard_scaler.joblib')\n",
    "        else:\n",
    "            raise FileNotFoundError(\"StandardScaler not provided and 'standard_scaler.joblib' not found.\")\n",
    "    if svd_model is None:\n",
    "        if os.path.exists('svd_model.joblib'):\n",
    "            svd_model = joblib.load('svd_model.joblib')\n",
    "        else:\n",
    "            raise FileNotFoundError(\"SVD model not provided and 'svd_model.joblib' not found.\")\n",
    "    \n",
    "    # Prepare new patient data\n",
    "    patient_features = pd.DataFrame({\n",
    "        'gender': [new_patient['gender']],\n",
    "        'anchor_age': [new_patient['anchor_age']],\n",
    "        'admission_type': [new_patient['admission_type']],\n",
    "        'insurance': [new_patient['insurance']]\n",
    "    })\n",
    "    \n",
    "    # Encode categorical features and scale age\n",
    "    try:\n",
    "        encoded_features = encoder.transform(patient_features[['gender', 'admission_type', 'insurance']])\n",
    "        scaled_age = scaler.transform(patient_features[['anchor_age']])\n",
    "    except ValueError as e:\n",
    "        logger.error(f\"Feature encoding/scaling error: {e}\")\n",
    "        raise ValueError(\"New patient data contains values not seen during training (e.g., unknown admission_type or insurance).\")\n",
    "    \n",
    "    patient_features_combined = np.hstack([encoded_features, scaled_age])\n",
    "    \n",
    "    # Collaborative Filtering: Find similar patients\n",
    "    train_features = train_matrix.reset_index()[['gender', 'anchor_age', 'admission_type', 'insurance']]\n",
    "    train_encoded = encoder.transform(train_features[['gender', 'admission_type', 'insurance']])\n",
    "    train_scaled_age = scaler.transform(train_features[['anchor_age']])\n",
    "    train_features_combined = np.hstack([train_encoded, train_scaled_age])\n",
    "    \n",
    "    similarities = cosine_similarity(patient_features_combined, train_features_combined)[0]\n",
    "    neighbor_indices = np.argsort(similarities)[-n_neighbors:][::-1]\n",
    "    neighbor_procedures = train_matrix.iloc[neighbor_indices].mean(axis=0)\n",
    "    \n",
    "    # Remove known procedures\n",
    "    known_procs = new_patient.get('known_procedures', [])\n",
    "    neighbor_procedures[known_procs] = 0\n",
    "    cf_recommendations = neighbor_procedures.sort_values(ascending=False).head(n_recommendations).index.tolist()\n",
    "    \n",
    "    # SVD: Predict procedure scores\n",
    "    new_patient_vector = pd.Series(0.0, index=train_matrix.columns)\n",
    "    for proc in known_procs:\n",
    "        if proc in train_matrix.columns:\n",
    "            new_patient_vector[proc] = 1.0\n",
    "    matrix_sparse = csr_matrix(new_patient_vector.values.reshape(1, -1))\n",
    "    latent_factors = svd_model.transform(matrix_sparse)\n",
    "    predicted_scores = np.dot(latent_factors, svd_model.components_)[0]\n",
    "    \n",
    "    # Remove known procedures\n",
    "    predicted_scores[new_patient_vector > 0] = 0\n",
    "    svd_recommendations = train_matrix.columns[np.argsort(predicted_scores)[-n_recommendations:][::-1]].tolist()\n",
    "    \n",
    "    # Combine recommendations\n",
    "    combined_recommendations = list(set(cf_recommendations + svd_recommendations))\n",
    "    if len(combined_recommendations) > n_recommendations:\n",
    "        cf_scores = neighbor_procedures[combined_recommendations] / (neighbor_procedures.max() or 1)\n",
    "        svd_scores = pd.Series(predicted_scores, index=train_matrix.columns)[combined_recommendations] / (predicted_scores.max() or 1)\n",
    "        combined_scores = (cf_scores + svd_scores).fillna(0)\n",
    "        combined_recommendations = combined_scores.sort_values(ascending=False).head(n_recommendations).index.tolist()\n",
    "    \n",
    "    # Map ICD codes to descriptions\n",
    "    recommendations = []\n",
    "    for icd_code in combined_recommendations:\n",
    "        description = df_d_icd_procedures[df_d_icd_procedures['icd_code'] == icd_code]['long_title'].iloc[0] if icd_code in df_d_icd_procedures['icd_code'].values else \"Unknown\"\n",
    "        recommendations.append({\"icd_code\": icd_code, \"description\": description})\n",
    "    \n",
    "    return recommendations\n"
   ]
  },
  {
   "cell_type": "code",
   "execution_count": 33,
   "id": "b5307192",
   "metadata": {},
   "outputs": [
    {
     "name": "stderr",
     "output_type": "stream",
     "text": [
      "INFO:__main__:Total evaluations: 107, Hit count: 6, Hit rate: 0.056074766355140186\n",
      "INFO:__main__:Total evaluations: 107, Hit count: 10, Hit rate: 0.09345794392523364\n"
     ]
    },
    {
     "name": "stdout",
     "output_type": "stream",
     "text": [
      "Collaborative Filtering Metrics: {'RMSE': 0.1345558347893827, 'MAE': 0.018655070776233795, 'Hit Rate': 0.056074766355140186, 'Mean Satisfaction Lift': 0.0}\n",
      "SVD Metrics: {'RMSE': 0.13371637216392432, 'MAE': 0.018439106108105785, 'Hit Rate': 0.09345794392523364, 'Mean Satisfaction Lift': 1.1102230246251566e-17}\n",
      "\n",
      "Recommended Procedures for New Patient:\n",
      "ICD Code: 966, Description: Enteral infusion of concentrated nutritional substances\n",
      "ICD Code: 3783, Description: Initial insertion of dual-chamber device\n",
      "ICD Code: 3897, Description: Central venous catheter placement with guidance\n",
      "ICD Code: 9904, Description: Transfusion of packed cells\n",
      "ICD Code: 3323, Description: Other bronchoscopy\n"
     ]
    }
   ],
   "source": [
    "\n",
    "# Example execution (assumes train_matrix, df_d_icd_procedures, etc. from notebook)\n",
    "if __name__ == \"__main__\":\n",
    "    # Initialize encoder and scaler with first patient\n",
    "    first_recs, encoder, scaler = collaborative_filtering_recommendations(train_matrix, 0)\n",
    "    \n",
    "    # Generate recommendations for all patients\n",
    "    cf_recommendations = [first_recs] + [\n",
    "        collaborative_filtering_recommendations(train_matrix, i, encoder=encoder, scaler=scaler)[0]\n",
    "        for i in range(1, len(train_matrix))\n",
    "    ]\n",
    "    cf_metrics = evaluate_recommendations(train_matrix, cf_recommendations, test_matrix)\n",
    "    print('Collaborative Filtering Metrics:', cf_metrics)\n",
    "    \n",
    "    # Generate SVD recommendations\n",
    "    svd_recs, svd_model = svd_recommendations(train_matrix)\n",
    "    svd_metrics = evaluate_recommendations(train_matrix, svd_recs, test_matrix)\n",
    "    print('SVD Metrics:', svd_metrics)\n",
    "    \n",
    "    # Save encoder and scaler (already saved in first call, but ensure consistency)\n",
    "    joblib.dump(encoder, 'onehot_encoder.joblib')\n",
    "    joblib.dump(scaler, 'standard_scaler.joblib')\n",
    "    \n",
    "    # Sample new patient\n",
    "    new_patient = {\n",
    "        \"subject_id\": 999999,\n",
    "        \"hadm_id\": 2999999,\n",
    "        \"gender\": \"W\",\n",
    "        \"anchor_age\": 75,\n",
    "        \"admission_type\": \"EW EMER.\",\n",
    "        \"insurance\": \"Medicare\",\n",
    "        \"condition_label\": [\"Lung condition\", \"Diabetes and related problems\"],\n",
    "        \"known_procedures\": []\n",
    "    }\n",
    "    \n",
    "    # Recommend procedures for new patient\n",
    "    try:\n",
    "        recommendations = recommend_procedures_for_new_patient(\n",
    "            new_patient, train_matrix, df_d_icd_procedures, svd_model, encoder, scaler\n",
    "        )\n",
    "        print(\"\\nRecommended Procedures for New Patient:\")\n",
    "        for rec in recommendations:\n",
    "            print(f\"ICD Code: {rec['icd_code']}, Description: {rec['description']}\")\n",
    "    except Exception as e:\n",
    "        logger.error(f\"Error recommending procedures: {e}\")"
   ]
  },
  {
   "cell_type": "markdown",
   "id": "14180e16",
   "metadata": {},
   "source": [
    "# Improvment "
   ]
  },
  {
   "cell_type": "code",
   "execution_count": 45,
   "id": "563c73c4",
   "metadata": {},
   "outputs": [],
   "source": [
    "import pandas as pd\n",
    "import numpy as np\n",
    "from sklearn.metrics.pairwise import cosine_similarity\n",
    "from sklearn.preprocessing import OneHotEncoder, StandardScaler\n",
    "from sklearn.decomposition import TruncatedSVD\n",
    "from scipy.sparse import csr_matrix\n",
    "import joblib\n",
    "import os\n",
    "import logging\n",
    "from pymongo.collection import Collection\n",
    "import re\n",
    "\n",
    "# Set up logging\n",
    "logging.basicConfig(level=logging.INFO)\n",
    "logger = logging.getLogger(__name__)\n",
    "\n",
    "# Category labels from notebook (Cell 5), extended for ICD-10 diabetes codes\n",
    "category_labels = {\n",
    "    '001-139': 'Infectious and parasitic diseases',\n",
    "    '140-239': 'Tumour or cancer',\n",
    "    '240-279': 'Endocrine, nutritional and metabolic diseases',\n",
    "    '250': 'Diabetes and related problems',\n",
    "    'E10-E14': 'Diabetes and related problems',  # ICD-10 diabetes codes\n",
    "    '280-289': 'Diseases of the blood and blood-forming organs',\n",
    "    '290-319': 'Mental disorders',\n",
    "    '320-389': 'Nervous system and sense organs diseases',\n",
    "    '390-459': 'Heart condition',\n",
    "    '460-519': 'Respiratory system diseases',\n",
    "    '520-579': 'Digestive system diseases',\n",
    "    '580-629': 'Genitourinary system diseases',\n",
    "    '630-679': 'Complications of pregnancy, childbirth, and the puerperium',\n",
    "    '680-709': 'Skin and subcutaneous tissue diseases',\n",
    "    '710-739': 'Musculoskeletal system and connective tissue diseases',\n",
    "    '740-759': 'Congenital anomalies',\n",
    "    '760-779': 'Conditions originating in the perinatal period',\n",
    "    '780-799': 'Symptoms, signs, and ill-defined conditions',\n",
    "    '800-999': 'Injury and poisoning',\n",
    "    'U07.1': 'COVID-19',\n",
    "    'V01-Z99': 'Health status and contact with health services'\n",
    "}\n",
    "\n",
    "def normalize_icd_code(code):\n",
    "    \"\"\"\n",
    "    Normalize ICD code for consistent comparison.\n",
    "    \"\"\"\n",
    "    if pd.isna(code):\n",
    "        return ''\n",
    "    code = str(code).strip().replace('.', '').upper()\n",
    "    return re.sub(r'[^A-Za-z0-9]', '', code)\n",
    "\n",
    "def map_procedure_to_conditions(procedure_icd_code, diagnoses_icd, d_icd_diagnoses, procedures_icd, category_labels):\n",
    "    \"\"\"\n",
    "    Map a procedure ICD code to condition labels via associated diagnoses.\n",
    "    \"\"\"\n",
    "    if isinstance(diagnoses_icd, Collection):\n",
    "        diagnoses_icd = pd.DataFrame(list(diagnoses_icd.find({}, {'hadm_id': 1, 'subject_id': 1, 'icd_code': 1, '_id': 0})))\n",
    "    if isinstance(d_icd_diagnoses, Collection):\n",
    "        d_icd_diagnoses = pd.DataFrame(list(d_icd_diagnoses.find({}, {'icd_code': 1, 'long_title': 1, '_id': 0})))\n",
    "    if isinstance(procedures_icd, Collection):\n",
    "        procedures_icd = pd.DataFrame(list(procedures_icd.find({}, {'hadm_id': 1, 'icd_code': 1, '_id': 0})))\n",
    "\n",
    "    if diagnoses_icd.empty or procedures_icd.empty:\n",
    "        logger.warning(f\"No data for procedure {procedure_icd_code}. Returning empty conditions.\")\n",
    "        return []\n",
    "\n",
    "    try:\n",
    "        procedure_icd_code = normalize_icd_code(procedure_icd_code)\n",
    "        proc_admissions = procedures_icd[procedures_icd['icd_code'].apply(normalize_icd_code) == procedure_icd_code][['hadm_id']]\n",
    "        admissions_with_proc = diagnoses_icd[diagnoses_icd['hadm_id'].isin(proc_admissions['hadm_id'])]\n",
    "        diag_codes = admissions_with_proc['icd_code'].apply(normalize_icd_code).unique()\n",
    "\n",
    "        conditions = set()\n",
    "        for diag_code in diag_codes:\n",
    "            if not diag_code:\n",
    "                continue\n",
    "            for icd_range, condition in category_labels.items():\n",
    "                if '-' in icd_range:\n",
    "                    start, end = icd_range.split('-')\n",
    "                    start, end = normalize_icd_code(start), normalize_icd_code(end)\n",
    "                    if start and end and start <= diag_code <= end:\n",
    "                        conditions.add(condition)\n",
    "                elif normalize_icd_code(icd_range) == diag_code:\n",
    "                    conditions.add(condition)\n",
    "        \n",
    "        if not conditions:\n",
    "            logger.debug(f\"No conditions mapped for procedure {procedure_icd_code}\")\n",
    "        \n",
    "        return list(conditions)\n",
    "    except Exception as e:\n",
    "        logger.error(f\"Error mapping procedure {procedure_icd_code} to conditions: {e}\")\n",
    "        return []\n",
    "\n",
    "def collaborative_filtering_recommendations(train_matrix, patient_idx, n_neighbors=5, n_recommendations=5, encoder=None, scaler=None):\n",
    "    \"\"\"\n",
    "    Collaborative Filtering recommendations.\n",
    "    \"\"\"\n",
    "    patient_features = train_matrix.reset_index()[['gender', 'anchor_age', 'admission_type', 'insurance']]\n",
    "    \n",
    "    if encoder is None:\n",
    "        encoder = OneHotEncoder(sparse_output=False, handle_unknown='ignore')\n",
    "        encoded_features = encoder.fit_transform(patient_features[['gender', 'admission_type', 'insurance']])\n",
    "    else:\n",
    "        encoded_features = encoder.transform(patient_features[['gender', 'admission_type', 'insurance']])\n",
    "    \n",
    "    if scaler is None:\n",
    "        scaler = StandardScaler()\n",
    "        scaled_age = scaler.fit_transform(patient_features[['anchor_age']])\n",
    "    else:\n",
    "        scaled_age = scaler.transform(patient_features[['anchor_age']])\n",
    "    \n",
    "    patient_features_combined = np.hstack([encoded_features, scaled_age])\n",
    "    similarity_matrix = cosine_similarity(patient_features_combined)\n",
    "    similarities = similarity_matrix[patient_idx]\n",
    "    neighbor_indices = np.argsort(similarities)[-n_neighbors-1:-1][::-1]\n",
    "    neighbor_procedures = train_matrix.iloc[neighbor_indices].mean(axis=0)\n",
    "    patient_procedures = train_matrix.iloc[patient_idx]\n",
    "    neighbor_procedures[patient_procedures > 0] = 0\n",
    "    recommendations = neighbor_procedures.sort_values(ascending=False).head(n_recommendations).index.tolist()\n",
    "    \n",
    "    return recommendations, encoder, scaler\n",
    "\n",
    "def svd_recommendations(train_matrix, n_components=10, n_recommendations=5, save_model=True):\n",
    "    \"\"\"\n",
    "    SVD recommendations with fixed random seed.\n",
    "    \"\"\"\n",
    "    np.random.seed(42)\n",
    "    n_components = min(n_components, train_matrix.shape[1]-1, train_matrix.shape[0]-1)\n",
    "    svd = TruncatedSVD(n_components=n_components, random_state=42)\n",
    "    matrix_sparse = csr_matrix(train_matrix.values)\n",
    "    latent_factors = svd.fit_transform(matrix_sparse)\n",
    "    reconstructed_matrix = np.dot(latent_factors, svd.components_)\n",
    "    recommendations = []\n",
    "    for patient_idx in range(train_matrix.shape[0]):\n",
    "        predicted_scores = reconstructed_matrix[patient_idx]\n",
    "        patient_procedures = train_matrix.iloc[patient_idx]\n",
    "        predicted_scores[patient_procedures > 0] = 0\n",
    "        top_procedures = np.argsort(predicted_scores)[-n_recommendations:][::-1]\n",
    "        procedures = train_matrix.columns[top_procedures].tolist()\n",
    "        recommendations.append(procedures)\n",
    "    \n",
    "    if save_model:\n",
    "        joblib.dump(svd, 'svd_model.joblib')\n",
    "    return recommendations, svd\n",
    "\n",
    "def recommend_procedures_for_new_patient(new_patient, train_matrix, df_d_icd_procedures, diagnoses_icd, d_icd_diagnoses, procedures_icd, svd_model=None, encoder=None, scaler=None, n_recommendations=5, n_neighbors=5):\n",
    "    \"\"\"\n",
    "    Recommend procedures for a new patient, filtering by condition labels.\n",
    "    \"\"\"\n",
    "    if encoder is None:\n",
    "        if os.path.exists('onehot_encoder.joblib'):\n",
    "            encoder = joblib.load('onehot_encoder.joblib')\n",
    "        else:\n",
    "            raise FileNotFoundError(\"OneHotEncoder not provided and 'onehot_encoder.joblib' not found.\")\n",
    "    if scaler is None:\n",
    "        if os.path.exists('standard_scaler.joblib'):\n",
    "            scaler = joblib.load('standard_scaler.joblib')\n",
    "        else:\n",
    "            raise FileNotFoundError(\"StandardScaler not provided and 'standard_scaler.joblib' not found.\")\n",
    "    if svd_model is None:\n",
    "        if os.path.exists('svd_model.joblib'):\n",
    "            svd_model = joblib.load('svd_model.joblib')\n",
    "        else:\n",
    "            raise FileNotFoundError(\"SVD model not provided and 'svd_model.joblib' not found.\")\n",
    "    \n",
    "    # Validate input\n",
    "    if not isinstance(new_patient.get('hadm_id'), (int, str)) or not str(new_patient['hadm_id']).isdigit():\n",
    "        logger.error(\"Invalid hadm_id: must be numeric\")\n",
    "        raise ValueError(\"hadm_id must be numeric\")\n",
    "    if new_patient.get('gender') not in ['M', 'F']:\n",
    "        logger.error(\"Invalid gender: must be 'M' or 'F'\")\n",
    "        raise ValueError(\"gender must be 'M' or 'F'\")\n",
    "    valid_conditions = list(category_labels.values())\n",
    "    if not all(cond in valid_conditions for cond in new_patient.get('condition_label', [])):\n",
    "        logger.warning(f\"Invalid condition labels: {new_patient.get('condition_label', [])}. Using unfiltered recommendations.\")\n",
    "        new_patient['condition_label'] = []\n",
    "\n",
    "    patient_features = pd.DataFrame({\n",
    "        'gender': [new_patient['gender']],\n",
    "        'anchor_age': [new_patient['anchor_age']],\n",
    "        'admission_type': [new_patient['admission_type']],\n",
    "        'insurance': [new_patient['insurance']]\n",
    "    })\n",
    "    \n",
    "    try:\n",
    "        encoded_features = encoder.transform(patient_features[['gender', 'admission_type', 'insurance']])\n",
    "        scaled_age = scaler.transform(patient_features[['anchor_age']])\n",
    "    except ValueError as e:\n",
    "        logger.error(f\"Feature encoding/scaling error: {e}\")\n",
    "        raise ValueError(\"New patient data contains values not seen during training.\")\n",
    "    \n",
    "    patient_features_combined = np.hstack([encoded_features, scaled_age])\n",
    "    \n",
    "    # Collaborative Filtering\n",
    "    train_features = train_matrix.reset_index()[['gender', 'anchor_age', 'admission_type', 'insurance']]\n",
    "    train_encoded = encoder.transform(train_features[['gender', 'admission_type', 'insurance']])\n",
    "    train_scaled_age = scaler.transform(train_features[['anchor_age']])\n",
    "    train_features_combined = np.hstack([train_encoded, train_scaled_age])\n",
    "    \n",
    "    similarities = cosine_similarity(patient_features_combined, train_features_combined)[0]\n",
    "    neighbor_indices = np.argsort(similarities)[-n_neighbors:][::-1]\n",
    "    neighbor_procedures = train_matrix.iloc[neighbor_indices].mean(axis=0)\n",
    "    known_procs = new_patient.get('known_procedures', [])\n",
    "    neighbor_procedures[known_procs] = 0\n",
    "    cf_recommendations = neighbor_procedures.sort_values(ascending=False).head(n_recommendations*2).index.tolist()\n",
    "    \n",
    "    # SVD\n",
    "    new_patient_vector = pd.Series(0.0, index=train_matrix.columns)\n",
    "    for proc in known_procs:\n",
    "        if proc in train_matrix.columns:\n",
    "            new_patient_vector[proc] = 1.0\n",
    "    matrix_sparse = csr_matrix(new_patient_vector.values.reshape(1, -1))\n",
    "    latent_factors = svd_model.transform(matrix_sparse)\n",
    "    predicted_scores = np.dot(latent_factors, svd_model.components_)[0]\n",
    "    predicted_scores[new_patient_vector > 0] = 0\n",
    "    svd_recommendations = train_matrix.columns[np.argsort(predicted_scores)[-n_recommendations*2:][::-1]].tolist()\n",
    "    \n",
    "    # Combine recommendations with scores\n",
    "    combined_recommendations = list(set(cf_recommendations + svd_recommendations))\n",
    "    cf_scores = neighbor_procedures[combined_recommendations] / (neighbor_procedures.max() or 1)\n",
    "    svd_scores = pd.Series(predicted_scores, index=train_matrix.columns)[combined_recommendations] / (predicted_scores.max() or 1)\n",
    "    combined_scores = (cf_scores + svd_scores).fillna(0)\n",
    "    \n",
    "    # Filter by condition labels\n",
    "    patient_conditions = new_patient.get('condition_label', [])\n",
    "    filtered_recommendations = []\n",
    "    if patient_conditions:\n",
    "        condition_weights = {'Heart condition': 0.7, 'Diabetes and related problems': 0.3}  # Weight heart higher due to emergency context\n",
    "        for icd_code in combined_recommendations:\n",
    "            proc_conditions = map_procedure_to_conditions(icd_code, diagnoses_icd, d_icd_diagnoses, procedures_icd, category_labels)\n",
    "            if proc_conditions:\n",
    "                for cond in proc_conditions:\n",
    "                    if cond in patient_conditions:\n",
    "                        score_boost = condition_weights.get(cond, 1.0)\n",
    "                        filtered_recommendations.append((icd_code, combined_scores[icd_code] * score_boost))\n",
    "        if filtered_recommendations:\n",
    "            filtered_recommendations = [code for code, _ in sorted(filtered_recommendations, key=lambda x: x[1], reverse=True)[:n_recommendations]]\n",
    "        else:\n",
    "            logger.warning(\"No procedures matched patient conditions. Using top-scored recommendations.\")\n",
    "            filtered_recommendations = combined_scores.sort_values(ascending=False).head(n_recommendations).index.tolist()\n",
    "    else:\n",
    "        filtered_recommendations = combined_scores.sort_values(ascending=False).head(n_recommendations).index.tolist()\n",
    "    \n",
    "    # Map ICD codes to descriptions\n",
    "    recommendations = []\n",
    "    for icd_code in filtered_recommendations:\n",
    "        norm_code = normalize_icd_code(icd_code)\n",
    "        match = df_d_icd_procedures[df_d_icd_procedures['icd_code'].apply(normalize_icd_code) == norm_code]\n",
    "        if match.empty:\n",
    "            logger.warning(f\"No description found for ICD code {icd_code} (normalized: {norm_code})\")\n",
    "            description = \"Unknown\"\n",
    "        else:\n",
    "            description = match['long_title'].iloc[0]\n",
    "        recommendations.append({\"icd_code\": icd_code, \"description\": description})\n",
    "    \n",
    "    return recommendations\n"
   ]
  },
  {
   "cell_type": "code",
   "execution_count": 46,
   "id": "26833654",
   "metadata": {},
   "outputs": [
    {
     "name": "stderr",
     "output_type": "stream",
     "text": [
      "INFO:__main__:Total evaluations: 107, Hit count: 6, Hit rate: 0.056074766355140186\n",
      "INFO:__main__:Total evaluations: 107, Hit count: 12, Hit rate: 0.11214953271028037\n"
     ]
    },
    {
     "name": "stdout",
     "output_type": "stream",
     "text": [
      "Collaborative Filtering Metrics: {'RMSE': 0.1345558347893827, 'MAE': 0.018655070776233795, 'Hit Rate': 0.056074766355140186, 'Mean Satisfaction Lift': 0.0}\n",
      "SVD Metrics: {'RMSE': 0.13332546625849678, 'MAE': 0.018341563109975943, 'Hit Rate': 0.11214953271028037, 'Mean Satisfaction Lift': 9.25185853854297e-18}\n",
      "\n",
      "Recommended Procedures for New Patient:\n",
      "ICD Code: 8856, Description: Coronary arteriography using two catheters\n",
      "ICD Code: 3722, Description: Left heart cardiac catheterization\n",
      "ICD Code: 8853, Description: Angiocardiography of left heart structures\n",
      "ICD Code: 3607, Description: Insertion of drug-eluting coronary artery stent(s)\n",
      "ICD Code: 45, Description: Insertion of one vascular stent\n"
     ]
    }
   ],
   "source": [
    "\n",
    "# Example execution\n",
    "if __name__ == \"__main__\":\n",
    "    # Initialize encoder and scaler\n",
    "    first_recs, encoder, scaler = collaborative_filtering_recommendations(train_matrix, 0)\n",
    "    \n",
    "    # Generate recommendations\n",
    "    cf_recommendations = [first_recs] + [\n",
    "        collaborative_filtering_recommendations(train_matrix, i, encoder=encoder, scaler=scaler)[0]\n",
    "        for i in range(1, len(train_matrix))\n",
    "    ]\n",
    "    cf_metrics = evaluate_recommendations(train_matrix, cf_recommendations, test_matrix)\n",
    "    print('Collaborative Filtering Metrics:', cf_metrics)\n",
    "    \n",
    "    svd_recs, svd_model = svd_recommendations(train_matrix)\n",
    "    svd_metrics = evaluate_recommendations(train_matrix, svd_recs, test_matrix)\n",
    "    print('SVD Metrics:', svd_metrics)\n",
    "    \n",
    "    # Save models\n",
    "    joblib.dump(encoder, 'onehot_encoder.joblib')\n",
    "    joblib.dump(scaler, 'standard_scaler.joblib')\n",
    "    \n",
    "    # Sample new patient\n",
    "    new_patient = {\n",
    "        \"subject_id\": 999999,\n",
    "        \"hadm_id\": \"2999999\",\n",
    "        \"gender\": \"M\",\n",
    "        \"anchor_age\": 65,\n",
    "        \"admission_type\": \"EW EMER.\",\n",
    "        \"insurance\": \"Medicare\",\n",
    "        \"condition_label\": [\"Heart condition\", \"Diabetes and related problems\"],\n",
    "        \"known_procedures\": []\n",
    "    }\n",
    "    \n",
    "    # Recommend procedures\n",
    "    try:\n",
    "        recommendations = recommend_procedures_for_new_patient(\n",
    "            new_patient, train_matrix, df_d_icd_procedures, diagnoses_icd, d_icd_diagnoses, procedures_icd,\n",
    "            svd_model, encoder, scaler\n",
    "        )\n",
    "        print(\"\\nRecommended Procedures for New Patient:\")\n",
    "        for rec in recommendations:\n",
    "            print(f\"ICD Code: {rec['icd_code']}, Description: {rec['description']}\")\n",
    "    except Exception as e:\n",
    "        logger.error(f\"Error recommending procedures: {e}\")"
   ]
  },
  {
   "cell_type": "code",
   "execution_count": 44,
   "id": "9ae1a391",
   "metadata": {},
   "outputs": [
    {
     "data": {
      "text/html": [
       "<div>\n",
       "<style scoped>\n",
       "    .dataframe tbody tr th:only-of-type {\n",
       "        vertical-align: middle;\n",
       "    }\n",
       "\n",
       "    .dataframe tbody tr th {\n",
       "        vertical-align: top;\n",
       "    }\n",
       "\n",
       "    .dataframe thead th {\n",
       "        text-align: right;\n",
       "    }\n",
       "</style>\n",
       "<table border=\"1\" class=\"dataframe\">\n",
       "  <thead>\n",
       "    <tr style=\"text-align: right;\">\n",
       "      <th></th>\n",
       "      <th>_id</th>\n",
       "      <th>icd_code</th>\n",
       "      <th>icd_version</th>\n",
       "      <th>long_title</th>\n",
       "    </tr>\n",
       "  </thead>\n",
       "  <tbody>\n",
       "    <tr>\n",
       "      <th>0</th>\n",
       "      <td>6855581f36e4026fa6f982d6</td>\n",
       "      <td>1</td>\n",
       "      <td>9</td>\n",
       "      <td>Therapeutic ultrasound of vessels of head and ...</td>\n",
       "    </tr>\n",
       "    <tr>\n",
       "      <th>1</th>\n",
       "      <td>6855581f36e4026fa6f982d7</td>\n",
       "      <td>2</td>\n",
       "      <td>9</td>\n",
       "      <td>Therapeutic ultrasound of heart</td>\n",
       "    </tr>\n",
       "    <tr>\n",
       "      <th>2</th>\n",
       "      <td>6855581f36e4026fa6f982d8</td>\n",
       "      <td>3</td>\n",
       "      <td>9</td>\n",
       "      <td>Therapeutic ultrasound of peripheral vascular ...</td>\n",
       "    </tr>\n",
       "    <tr>\n",
       "      <th>3</th>\n",
       "      <td>6855581f36e4026fa6f982d9</td>\n",
       "      <td>9</td>\n",
       "      <td>9</td>\n",
       "      <td>Other therapeutic ultrasound</td>\n",
       "    </tr>\n",
       "    <tr>\n",
       "      <th>4</th>\n",
       "      <td>6855581f36e4026fa6f982da</td>\n",
       "      <td>1</td>\n",
       "      <td>10</td>\n",
       "      <td>Central Nervous System and Cranial Nerves, Bypass</td>\n",
       "    </tr>\n",
       "    <tr>\n",
       "      <th>...</th>\n",
       "      <td>...</td>\n",
       "      <td>...</td>\n",
       "      <td>...</td>\n",
       "      <td>...</td>\n",
       "    </tr>\n",
       "    <tr>\n",
       "      <th>85252</th>\n",
       "      <td>6855582036e4026fa6facfda</td>\n",
       "      <td>XW0DXV5</td>\n",
       "      <td>10</td>\n",
       "      <td>Introduction of Gilteritinib Antineoplastic in...</td>\n",
       "    </tr>\n",
       "    <tr>\n",
       "      <th>85253</th>\n",
       "      <td>6855582036e4026fa6facfdb</td>\n",
       "      <td>XXE</td>\n",
       "      <td>10</td>\n",
       "      <td>New Technology, Physiological Systems, Measure...</td>\n",
       "    </tr>\n",
       "    <tr>\n",
       "      <th>85254</th>\n",
       "      <td>6855582036e4026fa6facfdc</td>\n",
       "      <td>XXE5XM5</td>\n",
       "      <td>10</td>\n",
       "      <td>Measurement of Infection, Whole Blood Nucleic ...</td>\n",
       "    </tr>\n",
       "    <tr>\n",
       "      <th>85255</th>\n",
       "      <td>6855582036e4026fa6facfdd</td>\n",
       "      <td>XY0</td>\n",
       "      <td>10</td>\n",
       "      <td>New Technology, Extracorporeal, Introduction</td>\n",
       "    </tr>\n",
       "    <tr>\n",
       "      <th>85256</th>\n",
       "      <td>6855582036e4026fa6facfde</td>\n",
       "      <td>XY0VX83</td>\n",
       "      <td>10</td>\n",
       "      <td>Extracorporeal Introduction of Endothelial Dam...</td>\n",
       "    </tr>\n",
       "  </tbody>\n",
       "</table>\n",
       "<p>85257 rows × 4 columns</p>\n",
       "</div>"
      ],
      "text/plain": [
       "                            _id icd_code  icd_version  \\\n",
       "0      6855581f36e4026fa6f982d6        1            9   \n",
       "1      6855581f36e4026fa6f982d7        2            9   \n",
       "2      6855581f36e4026fa6f982d8        3            9   \n",
       "3      6855581f36e4026fa6f982d9        9            9   \n",
       "4      6855581f36e4026fa6f982da        1           10   \n",
       "...                         ...      ...          ...   \n",
       "85252  6855582036e4026fa6facfda  XW0DXV5           10   \n",
       "85253  6855582036e4026fa6facfdb      XXE           10   \n",
       "85254  6855582036e4026fa6facfdc  XXE5XM5           10   \n",
       "85255  6855582036e4026fa6facfdd      XY0           10   \n",
       "85256  6855582036e4026fa6facfde  XY0VX83           10   \n",
       "\n",
       "                                              long_title  \n",
       "0      Therapeutic ultrasound of vessels of head and ...  \n",
       "1                        Therapeutic ultrasound of heart  \n",
       "2      Therapeutic ultrasound of peripheral vascular ...  \n",
       "3                           Other therapeutic ultrasound  \n",
       "4      Central Nervous System and Cranial Nerves, Bypass  \n",
       "...                                                  ...  \n",
       "85252  Introduction of Gilteritinib Antineoplastic in...  \n",
       "85253  New Technology, Physiological Systems, Measure...  \n",
       "85254  Measurement of Infection, Whole Blood Nucleic ...  \n",
       "85255       New Technology, Extracorporeal, Introduction  \n",
       "85256  Extracorporeal Introduction of Endothelial Dam...  \n",
       "\n",
       "[85257 rows x 4 columns]"
      ]
     },
     "execution_count": 44,
     "metadata": {},
     "output_type": "execute_result"
    }
   ],
   "source": [
    "df_d_icd_procedures"
   ]
  },
  {
   "cell_type": "code",
   "execution_count": null,
   "id": "6872678d",
   "metadata": {},
   "outputs": [],
   "source": []
  }
 ],
 "metadata": {
  "kernelspec": {
   "display_name": "py310",
   "language": "python",
   "name": "python3"
  },
  "language_info": {
   "codemirror_mode": {
    "name": "ipython",
    "version": 3
   },
   "file_extension": ".py",
   "mimetype": "text/x-python",
   "name": "python",
   "nbconvert_exporter": "python",
   "pygments_lexer": "ipython3",
   "version": "3.10.16"
  }
 },
 "nbformat": 4,
 "nbformat_minor": 5
}
